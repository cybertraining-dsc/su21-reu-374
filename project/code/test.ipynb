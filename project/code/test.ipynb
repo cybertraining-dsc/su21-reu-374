{
 "cells": [
  {
   "cell_type": "code",
   "execution_count": null,
   "metadata": {},
   "outputs": [],
   "source": []
  },
  {
   "cell_type": "code",
   "execution_count": 1,
   "metadata": {},
   "outputs": [
    {
     "ename": "ModuleNotFoundError",
     "evalue": "No module named 'cloudmesh'",
     "output_type": "error",
     "traceback": [
      "\u001b[1;31m---------------------------------------------------------------------------\u001b[0m",
      "\u001b[1;31mModuleNotFoundError\u001b[0m                       Traceback (most recent call last)",
      "\u001b[1;32m<ipython-input-1-56def29651e6>\u001b[0m in \u001b[0;36m<module>\u001b[1;34m\u001b[0m\n\u001b[0;32m      2\u001b[0m \u001b[1;32mfrom\u001b[0m \u001b[0mpprint\u001b[0m \u001b[1;32mimport\u001b[0m \u001b[0mpprint\u001b[0m\u001b[1;33m\u001b[0m\u001b[1;33m\u001b[0m\u001b[0m\n\u001b[0;32m      3\u001b[0m \u001b[1;33m\u001b[0m\u001b[0m\n\u001b[1;32m----> 4\u001b[1;33m \u001b[1;32mfrom\u001b[0m \u001b[0mcloudmesh\u001b[0m\u001b[1;33m.\u001b[0m\u001b[0mcommon\u001b[0m\u001b[1;33m.\u001b[0m\u001b[0mStopWatch\u001b[0m \u001b[1;32mimport\u001b[0m \u001b[0mStopWatch\u001b[0m\u001b[1;33m\u001b[0m\u001b[1;33m\u001b[0m\u001b[0m\n\u001b[0m\u001b[0;32m      5\u001b[0m \u001b[1;32mfrom\u001b[0m \u001b[0mcloudmesh\u001b[0m\u001b[1;33m.\u001b[0m\u001b[0mcommon\u001b[0m\u001b[1;33m.\u001b[0m\u001b[0mdebug\u001b[0m \u001b[1;32mimport\u001b[0m \u001b[0mVERBOSE\u001b[0m\u001b[1;33m\u001b[0m\u001b[1;33m\u001b[0m\u001b[0m\n\u001b[0;32m      6\u001b[0m \u001b[1;33m\u001b[0m\u001b[0m\n",
      "\u001b[1;31mModuleNotFoundError\u001b[0m: No module named 'cloudmesh'"
     ]
    }
   ],
   "source": [
    "import time\r\n",
    "from pprint import pprint\r\n",
    "\r\n",
    "from cloudmesh.common.StopWatch import StopWatch\r\n",
    "from cloudmesh.common.debug import VERBOSE\r\n",
    "\r\n",
    "a = {\"value\": 2, \"name\": \"John\", \"name1\": \"Carlos\", \"name2\": \"John\", \"name3\": \"John\", \"name4\": \"John\", \"name5\": \"John\"}\r\n",
    "\r\n",
    "StopWatch.start(\"Hello World\")\r\n",
    "\r\n",
    "print(\"Hello World\")\r\n",
    "time.sleep(0.2)\r\n",
    "StopWatch.stop(\"Hello World\")\r\n",
    "\r\n",
    "StopWatch.start(\"xyz\")\r\n",
    "time.sleep(0.1)\r\n",
    "print(\"xyz\")\r\n",
    "\r\n",
    "StopWatch.stop(\"xyz\")\r\n",
    "\r\n",
    "StopWatch.benchmark()\r\n",
    "print(a)\r\n",
    "pprint(a)\r\n",
    "VERBOSE(a)\r\n",
    "\r\n",
    "# To be continued\r\n"
   ]
  }
 ],
 "metadata": {
  "interpreter": {
   "hash": "63fd5069d213b44bf678585dea6b12cceca9941eaf7f819626cde1f2670de90d"
  },
  "kernelspec": {
   "display_name": "Python 3.9.1 64-bit",
   "name": "python3"
  },
  "language_info": {
   "codemirror_mode": {
    "name": "ipython",
    "version": 3
   },
   "file_extension": ".py",
   "mimetype": "text/x-python",
   "name": "python",
   "nbconvert_exporter": "python",
   "pygments_lexer": "ipython3",
   "version": "3.9.5"
  },
  "orig_nbformat": 4
 },
 "nbformat": 4,
 "nbformat_minor": 2
}